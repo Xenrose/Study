{
 "cells": [
  {
   "cell_type": "markdown",
   "id": "e010aae5",
   "metadata": {},
   "source": [
    "# GIT\n",
    "\n",
    "* 1. 초기 Git bash 설정\n",
    "* 2. Git commit 하기 (기초)\n",
    "* 3. .gitignore\n",
    "* 4. git log "
   ]
  },
  {
   "cell_type": "markdown",
   "id": "77eb341e",
   "metadata": {},
   "source": [
    "## 1. 초기 Git bash 설정\n",
    "\n",
    "* 사용자 이름 설정<br>\n",
    "`git config --global user.name \"your_name\"`\n",
    "\n",
    "* 사용자 이름 확인<br>\n",
    "`git config --global user.name`\n",
    "\n",
    "* 사용자 이메일 설정<br>\n",
    "`git config --global user.email \"your_email\"`\n",
    "\n",
    "* 사용자 이메일 확인<br>\n",
    "`git config --global user.email`\n",
    "\n",
    "* 사용자 정보 확인<br>\n",
    "`git config --list`\n",
    "\n",
    "* 기본 branch 이름 설정<br>\n",
    "`git config --global init.defaultBranch \"branch_name\"`<br>\n",
    "`git branch -M main`"
   ]
  },
  {
   "cell_type": "markdown",
   "id": "3937cec1",
   "metadata": {},
   "source": [
    "## 2. Git commit 하기\n",
    "\n",
    "\n",
    "1. 초기화<br>\n",
    "`git init`\n",
    "2. 초기화 된 git 삭제<br>\n",
    "`rm -rf .git`\n",
    "\n",
    "2. git repository를 연결하기<br>\n",
    "`git remote add origin \"git_address\"`\n",
    "3. 파일 추가하기<br>\n",
    "`git add .` or `git add [dir를 포함한 파일명]`\n",
    "4. commit 하기<br>\n",
    "`git commit -m \"first commit\"`<br>\n",
    "`git commit` 만 입력했을 경우 기본 template이 출력됨.<br>\n",
    "`git commit -am \"first commit\"` - dir에 있는 모든 파일과 함께 commit<br>\n",
    "5. main branch로 commit push 하기<br>\n",
    "`push origin main`\n",
    "6. git 명령어 축약하기\n",
    "`git config --global alias.st status` - `git status`를 `git st`로 축약\n",
    "<br><br>\n",
    "\n",
    "\n",
    "* `code .` - 현재 git bash가 보고 있는 directory를 vscode로 열어줌\n",
    "* `git config --list` - git에 설정된 정보들을 출력\n",
    "* `git remote -v` - remote 상태 확인하기<br>\n",
    "* `git status` - git과 연결된 로컬 폴더 상황 확인하기<br>\n",
    "    * `git status -b` - branch에 대한 status 출력<br>\n",
    "    * `git status -s` - short status 출력<br>\n",
    "        * `A` - added file<br>\n",
    "        * `M` - modified file<br>\n",
    "        * `??` - untracking file<br><br>\n",
    "* `git clone [git_address] [dir]` - git_address의 repository를 dir 폴더에 복사하기<br>\n",
    "* `git pull origin main` - main branch로부터 새로운 코드를 받아옴. (동기화)<br>"
   ]
  },
  {
   "cell_type": "markdown",
   "id": "b6820f31",
   "metadata": {},
   "source": [
    "* `git config --global -e` - git에 설정된 정보를 editor를 통해 출력<br>\n",
    "`git config --global core.editor \"code\"` - 동일한 코드\n",
    "* `git config --global core.editor \"code --wait\"` - git에 설정된 정보를 editor를 통해 출력하며 설정이 완료될때까지 다른 명령어를 입력받지 않음\n",
    "\n",
    "* `git config --global core.autocrlf true` - <br>윈도우의 경우 에디터에서 줄바꿈을 할때carriage-return(\\r) + line feed(\\n) 동시에 들아가는 반면  <br>맥에서는 line feed 하나만 들어감. 그렇기에 윈도우-맥 환경 둘 다 코드를 작성할 경우 `\\r\\n` 때문에 history 가독성이 저하됨.<br>해당 부분을 자동으로 push 할 경우 `\\t`를 삭제해주고 pull 할때 `\\t`를 추가해주는 기능을 해주는 역할\n",
    "* `git config --global core.autocrlf input` - 위 역할의 mac 버전"
   ]
  },
  {
   "cell_type": "markdown",
   "id": "6130738a",
   "metadata": {},
   "source": [
    "## Git 기타\n",
    "* .git 폴더를 삭제하게 된다면 Git 관리 내역이 삭제되니 주의할것\n",
    "* git에서 commit은 새로운 버전을 만든다는 의미"
   ]
  },
  {
   "cell_type": "markdown",
   "id": "8458fe25",
   "metadata": {},
   "source": [
    "## 3.  .gitignore\n",
    "\n",
    "* .gitignore 파일을 만들고 git에서 관리하고싶지 않은 파일의 이름을 입력 후 저장\n",
    "\n",
    "`file.c` - 모든 file.c 무시<br>\n",
    "`/file.c` - 최상위 폴더 file.c 무시<br>\n",
    "`*.c` - 확장자명이 c인 파일 무시<br>\n",
    "`!not_file.c` - ignore 예외 파일<br>\n",
    "`temp` - temp란 이름의 파일/폴더 무시<br>\n",
    "`temp/` - temp라는 폴더 내 모든 파일 무시<br>\n",
    "`temp/file.c` - temp 폴더 내 file.c 라는 파일 무시<br>\n",
    "`temp/*.c` - temp 폴더 내 .c 확장자 파일 무시<br>\n",
    "`temp/**/file.c` - temp폴더 내 모든 파일과 temp폴더 디렉토리 하위 디렉토리 내 file.c 라는 파일 무시<br>\n",
    "<br><br>"
   ]
  },
  {
   "cell_type": "markdown",
   "id": "dfff0979",
   "metadata": {},
   "source": [
    "## 4. git log \n",
    "\n",
    "* `git log`: 해당 git에 대한 commit history를 보여줌"
   ]
  },
  {
   "cell_type": "markdown",
   "id": "7850b4a2",
   "metadata": {},
   "source": [
    "## 5. git reset / git revert\n",
    "\n",
    "* git reset: 과거로 돌아가고 이전 히스토리는 삭제<br>\n",
    "* git revert: 과거로 돌아가지만 과거로 돌아간 히스토리를 새로이 생성\n",
    "\n",
    "\n",
    "`git reset --hard \"hash\"` - hash로 이동 그 이전 히스토리는 삭제\n"
   ]
  },
  {
   "cell_type": "markdown",
   "id": "9af9250f",
   "metadata": {},
   "source": [
    "## 6. git log 과거로 돌아가기\n",
    "\n",
    "1. git 초기화 및 remote<br>\n",
    "2. `git log`를 통해서 돌아가고 싶은 시점의 Hash 값을 획득<br>\n",
    "3. `git reset --hard \"hash\"` 입력하여 해당 시점으로 이동 // \"HEAD is now at... \"이라고 출력된다면 성공<br>\n",
    "4. `git push -f origin main` 입력하여 main branch에 push \n",
    "<br>-f 옵션은 force의 약자로 강제로 push 한다는 의미\n",
    "\n",
    "\n",
    "#### reset 시 명령어\n",
    "* `--hard`: 지정된 hash commit 이후 <b>기록</b>과 <b>파일</b>을 삭제<br>\n",
    "* `--mixed`: 지정된 hash commit 이후 <b>기록</b>은 삭제되고 파일은 untracked files 상태로 남음   * reset 시 디폴트 값\n",
    "* `--soft`: 지정된 hash commit 이후 <b>기록</b>은 삭제되고 파일은 staged 상태로 남음\n",
    "\n",
    "\n",
    "#### revert 시 명령어\n",
    "* `--no-commit`: revert시 자동으로  commit되지 않음."
   ]
  },
  {
   "cell_type": "markdown",
   "id": "f122dd0a",
   "metadata": {},
   "source": [
    "## 6. Branch 생성 및 삭제\n",
    "\n",
    "\n",
    "* `git branch`: 현재 branch 목록 출력\n",
    "* `git branch -all`: Repository에 있는 branch 목록까지 출력<br>`-all`을 `-a`으로 축약 가능\n",
    "<br><br>\n",
    "### 로컬 Branch\n",
    "\n",
    "* `git branch \"branch_name\"`: branch_name이란 branch 생성\n",
    "* `git switch \"branch_name\"`: branch_name으로 branch 이동\n",
    "* `git switch -c \"branch_name\"`: branch_name이란 branch를 생성 및 이동\n",
    "<br><br>\n",
    "* `git branch -d \"branch_name\"`: branch 삭제\n",
    "* `git branch -D \"branch_name\"`: branch 강제 삭제\n",
    "<br><br>\n",
    "* `git branch -m \"old_branch\" \"new_branch\"`: old_branch의 이름을 new_branch로 변경\n",
    "<br><br>\n",
    "\n",
    "\n",
    "### 원격 Branch\n",
    "\n",
    ">#### 원격 Branch 설정하기<br>\n",
    "* 1. `git fetch` - 로컬 폴더에 원격 repository의 최신 메타데이터 정보를 확인 <br>\n",
    "(변경된 데이터를 로컬 git에 실제로 가져오지 않음)\n",
    "\n",
    "* 2. `git switch -t origin/repository_branch_name` - 로컬에 같은 이름의 branch를 생성-연결<br>\n",
    "`-t` 명령어의 경우 `git push -u`와 비슷한 역할을 한다. 이제부터 `git switch`만 입력하더라도 `repository_branch_name`로 연결하겠다는 의미\n",
    "\n",
    "\n",
    "* `git push origin --delete repo_branch_name` - 원격의 브렌치 삭제\n",
    "\n",
    "\n",
    "### fetch / pull 차이점\n",
    "* `git fetch` - 원격 repository의 변경사항을 확인함 (최신 데이터 다운로드 X)\n",
    "* `git pull` - 원격 repository의 변경사항을 확인 후 최신 데이터를 다운로드\n",
    "<br><br>\n",
    "* `fetch`의 쓰임새는 현재 작업 중인 코드를 저장하지 않은 상태에서 `pull`을 할 경우 최신 데이터를 다운로드 하는 과정에서 현재 작업 중인 코드 일부가 손실될 수 있음. 그렇기에 `fetch`를 사용하여 현재 최신 데이터 상황을 체크 후 `commit`한 뒤 `pull`을 하는것을 권장함."
   ]
  },
  {
   "cell_type": "markdown",
   "id": "a9d0d4fb",
   "metadata": {},
   "source": [
    "## 7. branch merge / rebase\n",
    "* history를 남겨야 한다면 merge / merge의 경우 main branch에 병합되며 병합된 두 branch에 대한 history가 남음\n",
    "* history를 깔끔하게 해야한다면 rebase / rebase의 경우 main branch 뒤에 another_branch가 commit된 형태\n",
    "\n",
    "### merge\n",
    "* `git merge A_branch`: main branch 상태에서 입력시 A_branch와 merge 됨. / reset 사용 가능\n",
    "<br>병합된 A_branch는 삭제할것\n",
    "\n",
    "### rebase\n",
    "* 1. `git rebase main`: rebase를 할 branch로 이동 후 입력\n",
    "* 2. `git swtch main`: main branch로 이동 / 현재 main branch로 rebase되었으나 push는 되지 않은 상태\n",
    "* 3. `git merge A_branch`: A_branch merge를 통해 fast-forward\n",
    "<br>병합된 A_branch는 삭제할것"
   ]
  },
  {
   "cell_type": "markdown",
   "id": "7602ef74",
   "metadata": {},
   "source": [
    "## 8. branch 충돌 해결\n",
    "\n",
    "### merge 충돌\n",
    "* 충돌이 없을 경우 - 별 문제 없이 merge 가능\n",
    "\n",
    "\n",
    "* 충돌이 있을 경우 - vscode 사용시 충돌 부분을 어느 branch로 할것인지 선택 가능\n",
    "<br>/검색어 \"<<<<<<\" 으로 검색 후 하나하나씩 확인 가능\n",
    "\n",
    "\n",
    "* 충돌이 너무 많아서 merge를 취소해야 할 경우 - `git merge --abort`\n",
    "\n",
    "\n",
    "### rebase 충돌\n",
    "* 충돌이 없을 경우 - 별 문제 없이 rebase 가능\n",
    "\n",
    "\n",
    "\n",
    "* 충돌이 있을 경우 (충돌 해결이 될때까지 아래 과정을 반복)<br>1. 충돌 부분을 어느 branch로 할것인지 선택\n",
    "<br>2. `git add .`\n",
    "<br>3. `git rebase --continue`\n",
    "\n",
    "\n",
    "\n",
    "* 충돌 해결이 어려울 경우 - `git rebase --abort`"
   ]
  },
  {
   "cell_type": "markdown",
   "id": "4a802359",
   "metadata": {},
   "source": [
    "## 9. 기타\n",
    "\n",
    "* github token - 프로젝트 보안성을 위해 고안된 방법\n",
    "<br>사용법은 https://hoohaha.tistory.com/37 참고\n",
    "<br>현재로서는 token 다루는 방법까지는 불필요하다 판단하여 추후 업로드할 예정\n",
    "\n",
    "* 로컬 내용을 강제 Push\n",
    "<br>로컬의 내역이 원격보다 늦을때는 push 불가\n",
    "<br>단, 강제로 push 가능 (다만 다른 사람의 commit 내용이 사라질 수도 있음.)"
   ]
  },
  {
   "cell_type": "markdown",
   "id": "1fbea289",
   "metadata": {},
   "source": [
    "## 10. repository 다루기\n",
    "\n",
    "\n",
    "* `git remote add origin git_address` - git_address 를 내 로컬 폴더와 연결<br>\n",
    "* `git branch -M main` - default branch를 main으로 설정\n",
    "* `git push -u origin main` - default값으로 push시  로컬 폴더의 커밋 내역을 main branch에 push(업로드)\n",
    "<br><br>\n",
    "\n",
    "\n",
    "* `git clone git_address dir` - dir 폴더에 git_address의 repository 내용을 다운로드 (git log 도 확인 가능)\n",
    "* `git branch -M main` - default branch를 main으로 설정\n",
    "* `git push -u origin main` - default값으로 push시  로컬 폴더의 커밋 내역을 main branch에 push(업로드)\n",
    "<br><br>\n",
    "\n",
    "\n",
    "* `git clone git_address dir` - dir 폴더에 git_address의 repository 내용을 다운로드 (git log 도 확인 가능)"
   ]
  },
  {
   "cell_type": "markdown",
   "id": "d05f64b6",
   "metadata": {},
   "source": [
    "## 11. push / pull\n",
    "\n",
    "* `git push -u origin main` - 로컬 폴더에서 github repository로 push(업로드)\n",
    "* `git pull origin main` - github repository에 최신 버전을 로컬 폴더로 pull(동기화)\n",
    "<br>* 단, pull 이전에 본인이 작성한 내용을 `git add .` / `git commit -m \"commit\"` 등을 통해 반드시 commmit 해줘야함\n",
    "<br><br><br>\n",
    "\n",
    "\n",
    "### 현재 작성중인 main 버전이 다를 경우 pull 하는 법<br>(push 이전 현재 내 버전을 commit 하고 pull - push를 해야하는 경우)\n",
    "* `git pull --no-rebase` - merge 방식 / 로컬과 원격 저장소의 시간선을 한번에 모아줌\n",
    "* `git pull --rebase` - rebase 방식 / 원격 저장소 뒤에 로컬의 commit을 붙힘\n",
    "<br><br><br>\n",
    "\n",
    "### clone과 pull의 차이점\n",
    "* clone - repository 내용을 다운로드 / 이후 다른 branch에서 push한 내용은 가져오지 않음.\n",
    "* pull - repository 최신 버전을 동기화 / 다른 branch에서 push한 내용을 가져옴."
   ]
  },
  {
   "cell_type": "markdown",
   "id": "894ad381",
   "metadata": {},
   "source": [
    "## 00. 앞으로 추가/수정 해야하는 부분\n",
    "\n",
    "* rebase interactive mode https://www.youtube.com/watch?v=LwrXK68o-q8&list=WL&index=3&ab_channel=%EB%8F%99%EB%B9%88%EB%82%98\n",
    "\n",
    "* rebase - https://git-scm.com/book/ko/v2/Git-%EB%B8%8C%EB%9E%9C%EC%B9%98-Rebase-%ED%95%98%EA%B8%B0\n",
    "\n",
    "* 글 내용 정리하기"
   ]
  },
  {
   "cell_type": "markdown",
   "id": "9a185fb4",
   "metadata": {},
   "source": [
    "## 12. Git workflow\n",
    "\n",
    "### local\n",
    "* Working directory - 작업중인 local 폴더 <br>\n",
    "    * untracked -  새로 만들어진 파일이거나 기존 폴더에 git을 초기화하여 아직 git이 tracking 하지 않은 상태<br>\n",
    "    * tracked - .git이 tarcking 하는 상태<br>\n",
    "        * unmodified - 수정되지 않음.\n",
    "        * modified - 수정됨.\n",
    "        <br><br>\n",
    "* staging area - Woring directory에서 `git add file`로 추가된 파일들의 영역\n",
    "* .git directory - staging area에서 `commit`이 된 파일들의 영역\n",
    "\n",
    "\n",
    "### remote\n",
    "* .git directory - \n",
    "\n",
    "\n",
    "### flow\n",
    "[working directory] -- `git add file` >> [staging area]<br>\n",
    "[staging area] -- `commit` >> [local - .git directory]<br>\n",
    "[.git directory] -- `push` >> [remote - .git directory]\n",
    "<br><br>\n",
    "\n",
    "[working directory] -- `git add file` >> [staging area]<br>\n",
    "[staging area] -- midified >> [woring directory _ status - tracked - modified]<br>\n",
    "[working directory] -- `git add file` >> [staging area]\n",
    "<br><br>\n",
    "\n",
    "[staging area] -- `git re --cached file` >> [woring directory _ status - untracked]\n",
    "<br><br>\n",
    "\n",
    "\n",
    "[remote - .git directory] -- pull >> [local - .git directory]<br>\n",
    "[remote - .git directory] -- checkout or clone >> [working directory]"
   ]
  },
  {
   "cell_type": "markdown",
   "id": "763ae3f9",
   "metadata": {},
   "source": [
    "## 13. diff 버전/파일 비교\n",
    "\n",
    "* `git diff` - working directory에 있는 file 비교<br>\n",
    "* `cat file` - file에 대한 비교<br>\n",
    "* `git diff --staged` - staging area에 대한 비교<br>\n",
    "<br>\n",
    "\n",
    "#### diff를 vscode로 확인하기\n",
    "1. `git config --globel -e` 입력 후 에디터 출력\n",
    "2. 아래의 내용 추가하여 저장<br>\n",
    "    ```\n",
    "    [diff]\n",
    "        tool = vscode\n",
    "    [difftool \"vscode\"]\n",
    "        cmd = code --wait --diff $LOCAL $REMOTE\n",
    "    ```\n",
    "3. `git difftool` 입력 후 y 타이핑 하여 이전 버전과 비교\n",
    "\n"
   ]
  },
  {
   "cell_type": "markdown",
   "id": "eba4a175",
   "metadata": {},
   "source": []
  }
 ],
 "metadata": {
  "kernelspec": {
   "display_name": "Python 3.10.7 64-bit",
   "language": "python",
   "name": "python3"
  },
  "language_info": {
   "codemirror_mode": {
    "name": "ipython",
    "version": 3
   },
   "file_extension": ".py",
   "mimetype": "text/x-python",
   "name": "python",
   "nbconvert_exporter": "python",
   "pygments_lexer": "ipython3",
   "version": "3.10.7"
  },
  "vscode": {
   "interpreter": {
    "hash": "4225bb6137ff0b7b155d720872316906473039233cefc1075b9b6dead87f8f6a"
   }
  }
 },
 "nbformat": 4,
 "nbformat_minor": 5
}
