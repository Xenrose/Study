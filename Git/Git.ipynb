{
 "cells": [
  {
   "cell_type": "markdown",
   "id": "e010aae5",
   "metadata": {},
   "source": [
    "# GIT\n",
    "\n",
    "* 1. 초기 Git bash 설정\n",
    "* 2. Git commit 하기 (기초)\n",
    "* 3. .gitignore\n",
    "* 4. git log "
   ]
  },
  {
   "cell_type": "markdown",
   "id": "77eb341e",
   "metadata": {},
   "source": [
    "## 1. 초기 Git bash 설정\n",
    "\n",
    "* 사용자 이름 설정<br>\n",
    "`git config --global user.name \"your_name\"`\n",
    "\n",
    "* 사용자 이름 확인<br>\n",
    "`git config --global user.name`\n",
    "\n",
    "* 사용자 이메일 설정<br>\n",
    "`git config --global user.email \"your_email\"`\n",
    "\n",
    "* 사용자 이메일 확인<br>\n",
    "`git config --global user.email`\n",
    "\n",
    "* 사용자 정보 확인<br>\n",
    "`git config --list`\n",
    "\n",
    "* 기본 branch 이름 설정<br>\n",
    "`git config --global init.defaultBranch \"branch_name\"`<br>\n",
    "`git branch -M main`"
   ]
  },
  {
   "cell_type": "markdown",
   "id": "3937cec1",
   "metadata": {},
   "source": [
    "## 2. Git commit 하기\n",
    "\n",
    "\n",
    "1. 초기화<br>\n",
    "`git init`\n",
    "\n",
    "2. git repository를 연결하기<br>\n",
    "`git remote add origin \"git_address\"`\n",
    "3. 파일 추가하기<br>\n",
    "`git add .` or `git add [dir를 포함한 파일명]`\n",
    "4. commit 하기<br>\n",
    "`git commit -m \"first commit\"`\n",
    "5. main branch로 commit push 하기<br>\n",
    "`push origin main`\n",
    "\n",
    "\n",
    "\n",
    "* remote 상태 확인하기<br>\n",
    "`git remote -v`\n",
    "* git과 연결된 로컬 폴더 상황 확인하기<br>\n",
    "`git status`\n",
    "* git_address의 repository를 dir 폴더에 복사하기<br>\n",
    "`git clone [git_address] [dir]`\n",
    "* main branch로부터 새로운 코드를 받아옴. (동기화)<br>\n",
    "`git pull origin main`"
   ]
  },
  {
   "cell_type": "markdown",
   "id": "6130738a",
   "metadata": {},
   "source": [
    "## Git 기타\n",
    "* .git 폴더를 삭제하게 된다면 Git 관리 내역이 삭제되니 주의할것\n",
    "* git에서 commit은 새로운 버전을 만든다는 의미\n"
   ]
  },
  {
   "cell_type": "markdown",
   "id": "8458fe25",
   "metadata": {},
   "source": [
    "## 3.  .gitignore\n",
    "\n",
    "* .gitignore 파일을 만들고 git에서 관리하고싶지 않은 파일의 이름을 입력 후 저장\n",
    "\n",
    "`file.c`   모든 file.c 무시<br>\n",
    "`/file.c`   최상위 폴더 file.c 무시<br>\n",
    "`*.c`   확장자명이 c인 파일 무시<br>\n",
    "`!not_file.c`   ignore 예외 파일<br>\n",
    "`temp`   temp란 이름의 파일/폴더 무시<br>\n",
    "`temp/`   temp라는 폴더 내 모든 파일 무시<br>\n",
    "`temp/file.c`   temp 폴더 내 file.c 라는 파일 무시<br>\n",
    "`temp/*.c`   temp 폴더 내 .c 확장자 파일 무시<br>\n",
    "`temp/**/file.c`   temp폴더 내 모든 파일과 temp폴더 디렉토리 하위 디렉토리 내 file.c 라는 파일 무시<br>\n"
   ]
  },
  {
   "cell_type": "markdown",
   "id": "dfff0979",
   "metadata": {},
   "source": [
    "## 4. git log \n",
    "\n",
    "* `git log`: 해당 git에 대한 commit history를 보여줌"
   ]
  },
  {
   "cell_type": "markdown",
   "id": "7850b4a2",
   "metadata": {},
   "source": [
    "## 5. git reset / git revert\n",
    "\n",
    "* git reset: 과거로 돌아가고 이전 히스토리는 삭제<br>\n",
    "* git revert: 과거로 돌아가지만 과거로 돌아간 히스토리를 새로이 생성\n",
    "\n",
    "\n",
    "`git reset --hard \"hash\"` - hash로 이동 그 이전 히스토리는 삭제\n"
   ]
  },
  {
   "cell_type": "markdown",
   "id": "9af9250f",
   "metadata": {},
   "source": [
    "## 6. git log 과거로 돌아가기\n",
    "\n",
    "1. git 초기화 및 remote<br>\n",
    "2. `git log`를 통해서 돌아가고 싶은 시점의 Hash 값을 획득<br>\n",
    "3. `git reset --hard \"hash\"` 입력하여 해당 시점으로 이동 // \"HEAD is now at... \"이라고 출력된다면 성공<br>\n",
    "4. `git push -f origin main` 입력하여 main branch에 push \n",
    "<br>-f 옵션은 force의 약자로 강제로 push 한다는 의미\n",
    "\n",
    "\n",
    "#### reset 시 명령어\n",
    "* `--hard`: 지정된 hash commit 이후 <b>기록</b>과 <b>파일</b>을 삭제<br>\n",
    "* `--mixed`: 지정된 hash commit 이후 <b>기록</b>은 삭제되고 파일은 untracked files 상태로 남음   * reset 시 디폴트 값\n",
    "* `--soft`: 지정된 hash commit 이후 <b>기록</b>은 삭제되고 파일은 staged 상태로 남음\n",
    "\n",
    "\n",
    "#### revert 시 명령어\n",
    "* `--no-commit`: revert시 자동으로  commit되지 않음."
   ]
  },
  {
   "cell_type": "markdown",
   "id": "f122dd0a",
   "metadata": {},
   "source": [
    "## 6. branch 생성 및 삭제\n",
    "\n",
    "\n",
    "* `git branch`: 현재 branch 목록 출력\n",
    "<br><br>\n",
    "* `git branch \"branch_name\"`: branch_name이란 branch 생성\n",
    "* `git switch \"branch_name\"`: branch_name으로 branch 이동\n",
    "* `git switch -c \"branch_name\"`: branch_name이란 branch를 생성 및 이동\n",
    "<br><br>\n",
    "* `git branch -d \"branch_name\"`: branch 삭제\n",
    "* `git branch -D \"branch_name\"`: branch 강제 삭제\n",
    "<br><br>\n",
    "* `git branch -m \"old_branch\" \"new_branch\"`: old_branch의 이름을 new_branch로 변경\n"
   ]
  },
  {
   "cell_type": "markdown",
   "id": "a9d0d4fb",
   "metadata": {},
   "source": [
    "## 7. branch merge / rebase\n",
    "* history를 남겨야 한다면 merge / merge의 경우 main branch에 병합되며 병합된 두 branch에 대한 history가 남음\n",
    "* history를 깔끔하게 해야한다면 rebase / rebase의 경우 main branch 뒤에 another_branch가 commit된 형태\n",
    "\n",
    "### merge\n",
    "* `git merge A_branch`: main branch 상태에서 입력시 A_branch와 merge 됨. / reset 사용 가능\n",
    "<br>병합된 A_branch는 삭제할것\n",
    "\n",
    "### rebase\n",
    "* 1. `git rebase main`: rebase를 할 branch로 이동 후 입력\n",
    "* 2. `git swtch main`: main branch로 이동 / 현재 main branch로 rebase되었으나 push는 되지 않은 상태\n",
    "* 3. `git merge A_branch`: A_branch merge를 통해 fast-forward\n",
    "<br>병합된 A_branch는 삭제할것"
   ]
  },
  {
   "cell_type": "markdown",
   "id": "7602ef74",
   "metadata": {},
   "source": [
    "## 8. branch 충돌 해결\n",
    "\n",
    "### merge 충돌\n",
    "* 충돌이 없을 경우 - 별 문제 없이 merge 가능\n",
    "\n",
    "\n",
    "* 충돌이 있을 경우 - vscode 사용시 충돌 부분을 어느 branch로 할것인지 선택 가능\n",
    "<br>/검색어 \"<<<<<<\" 으로 검색 후 하나하나씩 확인 가능\n",
    "\n",
    "\n",
    "* 충돌이 너무 많아서 merge를 취소해야 할 경우 - `git merge --abort`\n",
    "\n",
    "\n",
    "### rebase 충돌\n",
    "* 충돌이 없을 경우 - 별 문제 없이 rebase 가능\n",
    "\n",
    "\n",
    "\n",
    "* 충돌이 있을 경우 (충돌 해결이 될때까지 아래 과정을 반복)<br>1. 충돌 부분을 어느 branch로 할것인지 선택\n",
    "<br>2. `git add .`\n",
    "<br>3. `git rebase --continue`\n",
    "\n",
    "\n",
    "\n",
    "* 충돌 해결이 어려울 경우 - `git rebase --abort`"
   ]
  },
  {
   "cell_type": "markdown",
   "id": "4a802359",
   "metadata": {},
   "source": [
    "## 9. 기타\n",
    "\n",
    "* github token - 프로젝트 보안성을 위해 고안된 방법\n",
    "<br>사용법은 https://hoohaha.tistory.com/37 참고\n",
    "<br>현재로서는 token 다루는 방법까지는 불필요하다 판단하여 추후 업로드할 예정\n",
    "\n"
   ]
  },
  {
   "cell_type": "markdown",
   "id": "1fbea289",
   "metadata": {},
   "source": [
    "## 10. repository 다루기\n",
    "\n",
    "* `git remote add origin git_address` - git_address 를 내 로컬 폴더와 연결\n",
    "* `git branch -M main` - default branch를 main으로 설정\n",
    "* `git push -u origin main` - default값으로 push시  로컬 폴더의 커밋 내역을 main branch에 push(업로드)\n",
    "\n",
    "\n",
    "* `git clone git_address dir` - dir 폴더에 git_address의 repository 내용을 다운로드 (git log 도 확인 가능)"
   ]
  },
  {
   "cell_type": "markdown",
   "id": "d05f64b6",
   "metadata": {},
   "source": [
    "## 11. push / pull\n",
    "\n",
    "* `git push -u origin main` - 로컬 폴더에서 github repository로 push(업로드)\n",
    "* `git pull origin main` - github repository에 최신 버전을 로컬 폴더로 pull(동기화)\n",
    "<br>* 단, pull 이전에 본인이 작성한 내용을 `git add .` / `git commit -m \"commit\"` 등을 통해 반드시 commmit 해줘야함\n",
    "<br><br><br>\n",
    "\n",
    "\n",
    "### 현재 작성중인 main 버전이 다를 경우 pull 하는 법<br>(push 이전 현재 내 버전을 commit 하고 pull - push를 해야하는 경우)\n",
    "* `git pull --no-rebase` - merge 방식 / 로컬과 원격 저장소의 시간선을 한번에 모아줌\n",
    "* `git pull --rebase` - rebase 방식 / 원격 저장소 뒤에 로컬의 commit을 붙힘\n",
    "<br><br><br>\n",
    "\n",
    "### clone과 pull의 차이점\n",
    "* clone - repository 내용을 다운로드 / 이후 다른 branch에서 push한 내용은 가져오지 않음.\n",
    "* pull - repository 최신 버전을 동기화 / 다른 branch에서 push한 내용을 가져옴."
   ]
  },
  {
   "cell_type": "markdown",
   "id": "894ad381",
   "metadata": {},
   "source": [
    "## 00. 앞으로 더 배워야할 점\n",
    "\n",
    "* rebase interactive mode https://www.youtube.com/watch?v=LwrXK68o-q8&list=WL&index=3&ab_channel=%EB%8F%99%EB%B9%88%EB%82%98\n",
    "\n",
    "* rebase - https://git-scm.com/book/ko/v2/Git-%EB%B8%8C%EB%9E%9C%EC%B9%98-Rebase-%ED%95%98%EA%B8%B0\n",
    "\n",
    "* 글 내용 정리하기"
   ]
  },
  {
   "cell_type": "code",
   "execution_count": null,
   "id": "9a185fb4",
   "metadata": {},
   "outputs": [],
   "source": []
  }
 ],
 "metadata": {
  "kernelspec": {
   "display_name": "Python 3.10.7 64-bit",
   "language": "python",
   "name": "python3"
  },
  "language_info": {
   "codemirror_mode": {
    "name": "ipython",
    "version": 3
   },
   "file_extension": ".py",
   "mimetype": "text/x-python",
   "name": "python",
   "nbconvert_exporter": "python",
   "pygments_lexer": "ipython3",
   "version": "3.10.7"
  },
  "vscode": {
   "interpreter": {
    "hash": "4225bb6137ff0b7b155d720872316906473039233cefc1075b9b6dead87f8f6a"
   }
  }
 },
 "nbformat": 4,
 "nbformat_minor": 5
}
